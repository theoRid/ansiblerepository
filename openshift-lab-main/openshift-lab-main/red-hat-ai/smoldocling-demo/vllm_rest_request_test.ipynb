{
 "cells": [
  {
   "cell_type": "markdown",
   "id": "1a435d47-b264-4237-8872-5f6de6b299b5",
   "metadata": {},
   "source": [
    "The \"infer_endpoint\" variable assumes that the model is deployed in the \"smoldocling\" namespace.\n",
    "Remember to make the required changes to match the deployed model's Inference endpoint. "
   ]
  },
  {
   "cell_type": "code",
   "execution_count": 1,
   "id": "6d1d8aad-6b73-4bf4-a2b1-8f58d8ef60eb",
   "metadata": {},
   "outputs": [],
   "source": [
    "infer_endpoint = \"https://smocdocling.smoldocling.svc.cluster.local\"\n",
    "infer_url = f\"{infer_endpoint}/v1/chat/completions\""
   ]
  },
  {
   "cell_type": "markdown",
   "id": "d100aea9-e019-4fa4-bcb1-04f0130c6822",
   "metadata": {},
   "source": [
    "Perform a quick sanity test via REST API request"
   ]
  },
  {
   "cell_type": "code",
   "execution_count": 2,
   "id": "ce729cb1-ff1d-4e64-8a91-30f1dc2105ab",
   "metadata": {},
   "outputs": [],
   "source": [
    "import requests\n",
    "\n",
    "\n",
    "def rest_request():\n",
    "    json_data = {\n",
    "        \"model\": \"smocdocling\",\n",
    "        \"messages\": [\n",
    "            {\n",
    "                \"role\": \"user\",\n",
    "                \"content\": [\n",
    "                    {\n",
    "                        \"type\": \"text\",\n",
    "                        \"text\": \"What is in this image?\"\n",
    "                    },\n",
    "                    {\n",
    "                        \"type\": \"image_url\",\n",
    "                        \"image_url\": {\n",
    "                            \"url\": \"https://upload.wikimedia.org/wikipedia/commons/thumb/d/dd/Gfp-wisconsin-madison-the-nature-boardwalk.jpg/2560px-Gfp-wisconsin-madison-the-nature-boardwalk.jpg\"\n",
    "                        }\n",
    "                    }\n",
    "                ]\n",
    "            }\n",
    "        ]\n",
    "    }\n",
    "    \n",
    "    response = requests.post(infer_url, json=json_data, verify=False)\n",
    "    return response.json()"
   ]
  },
  {
   "cell_type": "code",
   "execution_count": 3,
   "id": "ae00bb63-c235-4ec4-b0c5-c04b9ec273e2",
   "metadata": {},
   "outputs": [
    {
     "name": "stderr",
     "output_type": "stream",
     "text": [
      "/opt/app-root/lib64/python3.11/site-packages/urllib3/connectionpool.py:1064: InsecureRequestWarning: Unverified HTTPS request is being made to host 'smocdocling.smoldocling.svc.cluster.local'. Adding certificate verification is strongly advised. See: https://urllib3.readthedocs.io/en/1.26.x/advanced-usage.html#ssl-warnings\n",
      "  warnings.warn(\n"
     ]
    },
    {
     "data": {
      "text/plain": [
       "{'id': 'chatcmpl-ab4d501c-5efd-4554-a2b7-0b79b18ee5cc',\n",
       " 'object': 'chat.completion',\n",
       " 'created': 1745160648,\n",
       " 'model': 'smocdocling',\n",
       " 'choices': [{'index': 0,\n",
       "   'message': {'role': 'assistant',\n",
       "    'reasoning_content': None,\n",
       "    'content': ' beautiful landscape with bright blue skies and a sunny day <ocr> amazed HARUD Bull Hospital ISUNDIE ISANDEL NOTH YEAR 1/88/0000 DCILIPY General USAIPOTICA</ocr>',\n",
       "    'tool_calls': []},\n",
       "   'logprobs': None,\n",
       "   'finish_reason': 'stop',\n",
       "   'stop_reason': 49279}],\n",
       " 'usage': {'prompt_tokens': 876,\n",
       "  'total_tokens': 928,\n",
       "  'completion_tokens': 52,\n",
       "  'prompt_tokens_details': None},\n",
       " 'prompt_logprobs': None}"
      ]
     },
     "execution_count": 3,
     "metadata": {},
     "output_type": "execute_result"
    }
   ],
   "source": [
    "prediction = rest_request()\n",
    "prediction"
   ]
  }
 ],
 "metadata": {
  "kernelspec": {
   "display_name": "Python 3.11",
   "language": "python",
   "name": "python3"
  },
  "language_info": {
   "codemirror_mode": {
    "name": "ipython",
    "version": 3
   },
   "file_extension": ".py",
   "mimetype": "text/x-python",
   "name": "python",
   "nbconvert_exporter": "python",
   "pygments_lexer": "ipython3",
   "version": "3.11.9"
  }
 },
 "nbformat": 4,
 "nbformat_minor": 5
}
